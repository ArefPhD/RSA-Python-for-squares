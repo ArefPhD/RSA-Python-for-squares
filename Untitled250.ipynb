{
  "nbformat": 4,
  "nbformat_minor": 0,
  "metadata": {
    "colab": {
      "private_outputs": true,
      "provenance": []
    },
    "kernelspec": {
      "name": "python3",
      "display_name": "Python 3"
    },
    "language_info": {
      "name": "python"
    }
  },
  "cells": [
    {
      "cell_type": "code",
      "source": [
        "pip install descartes"
      ],
      "metadata": {
        "id": "MSZxYtoxtNhb"
      },
      "execution_count": null,
      "outputs": []
    },
    {
      "cell_type": "code",
      "source": [
        "from shapely.geometry import Polygon\n"
      ],
      "metadata": {
        "id": "vSeSib5-tgU0"
      },
      "execution_count": null,
      "outputs": []
    },
    {
      "cell_type": "code",
      "source": [
        "import numpy as np\n",
        "from shapely.geometry import Polygon\n",
        "\n",
        "range_ = 50-0.5 # define the range in which the coordinates should fall\n",
        "a = 1  # define the side length of the polygons\n",
        "distance = 0.0  # define the distance of the buffer around the polygon\n",
        "\n",
        "# create an empty list to store the polygon objects\n",
        "polygons = []\n",
        "\n",
        "# generate the polygons and add them to the list if they do not intersect any other polygon\n",
        "i = 0\n",
        "while len(polygons) < 4000:\n",
        "    # Define the coordinates of the vertices of the polygon\n",
        "    A = np.random.uniform(0, range_)\n",
        "    B = np.random.uniform(0, range_)\n",
        "    coords = np.array([[A, B],\n",
        "                       [A+a/2, B],\n",
        "                       [A+a/2, B+a/2],\n",
        "                       [A, B+a/2]])\n",
        "    poly = Polygon(coords).buffer(distance)\n",
        "    \n",
        "    # check if the polygon intersects any of the other polygons in the list\n",
        "    intersects = False\n",
        "    for i, poly1 in enumerate(polygons):\n",
        "        if poly1.intersects(poly):\n",
        "            intersects = True\n",
        "            break\n",
        "    \n",
        "    # if the polygon does not intersect any other polygon, add it to the list\n",
        "    if not intersects:\n",
        "        polygons.append(poly)\n",
        "    print(f'Length of polygons list: {len(polygons)}')\n",
        "    #print(p)\n",
        "\n",
        "# create a matrix to store the coordinates of the polygons\n",
        "matrix = np.zeros((len(polygons), 5, 2))\n",
        "\n",
        "# fill the matrix with the coordinates of the polygons\n",
        "for i, poly in enumerate(polygons):\n",
        "    matrix[i] = np.asarray(poly.exterior.coords)\n",
        "\n",
        "print(f'Final matrix: {matrix}')\n"
      ],
      "metadata": {
        "id": "PsV6jnDy4m13"
      },
      "execution_count": null,
      "outputs": []
    },
    {
      "cell_type": "code",
      "source": [
        "distance = 0\n",
        "A = np.random.uniform(0, range_)\n",
        "B = np.random.uniform(0, range_)\n",
        "coords = np.array([[A, B],\n",
        "                   [A+a/2, B],\n",
        "                   [A+a/2, B+a/2],\n",
        "                   [A, B+a/2]])\n",
        "poly = Polygon(coords).buffer(distance)\n",
        "area = poly.area\n",
        "area"
      ],
      "metadata": {
        "id": "GaLhvdm27w_Q"
      },
      "execution_count": null,
      "outputs": []
    },
    {
      "cell_type": "code",
      "source": [
        "import matplotlib.pyplot as plt\n",
        "from shapely.geometry import Polygon\n",
        "\n",
        "# create a figure and axis\n",
        "fig, ax = plt.subplots()\n",
        "\n",
        "# iterate over the polygons and plot them\n",
        "for poly in polygons:\n",
        "    x, y = poly.exterior.xy\n",
        "    ax.plot(x, y, color='blue')\n",
        "    ax.set_aspect('equal')\n",
        "\n",
        "# show the plot\n",
        "plt.show()\n"
      ],
      "metadata": {
        "id": "MXllSsW761p5"
      },
      "execution_count": null,
      "outputs": []
    }
  ]
}